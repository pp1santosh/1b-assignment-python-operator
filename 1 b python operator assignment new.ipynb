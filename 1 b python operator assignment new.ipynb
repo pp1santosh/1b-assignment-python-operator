{
 "cells": [
  {
   "cell_type": "code",
   "execution_count": null,
   "id": "eef988d2",
   "metadata": {},
   "outputs": [],
   "source": [
    "\n",
    "#Q1 sol\n",
    "num1=20\n",
    "num2=6\n",
    "add_result=num1+num2\n",
    "diff_result=num1-num2\n",
    "product_result=num1*num2\n",
    "qotient_result=num1//num2\n",
    "print(f\"sum={add_result}\\n difference={diff_result}\\n product={product_result}\\n quotient={qotient_result}\")\n"
   ]
  },
  {
   "cell_type": "code",
   "execution_count": null,
   "id": "4d78e515",
   "metadata": {},
   "outputs": [],
   "source": [
    "#Q2 sol\n",
    "age=25 #assignment \n",
    "print(\"my age is \",age)\n",
    "age+=5 # addition assignment\n",
    "print(\"updated age =\",age)\n",
    "age-=4 # substraction assignmet\n",
    "print(\"substracted age=\",age)\n",
    "age*=2 #multiplication assignment\n",
    "print(\"multiplied age=\",age)\n",
    "age/=2\n",
    "print(\"devided age=\",age)"
   ]
  },
  {
   "cell_type": "code",
   "execution_count": null,
   "id": "98cc150f",
   "metadata": {},
   "outputs": [],
   "source": [
    "#Q3 sol\n",
    "a=5\n",
    "b=6\n",
    "result1=a==b\n",
    "result2=a<b\n",
    "result3=b>a\n",
    "result4=b>=a\n",
    "print(result1)\n",
    "print(result2)\n",
    "print(result3)\n",
    "print(result4)"
   ]
  },
  {
   "cell_type": "code",
   "execution_count": null,
   "id": "77f8f65b",
   "metadata": {},
   "outputs": [],
   "source": [
    "#Q4 sol\n",
    "result1 = (7 > 5) and (8 < 15) # 0/p true only if both are true\n",
    "print(result1)\n",
    "\n",
    "result2 = (7 > 5) or (20 < 15) #o/p true  only when atleast 1 condition is true\n",
    "print(result2)\n",
    "\n",
    "result3 = not (\"PWskills\" == \"Course\")  # result will be a complemnt of original result\n",
    "print(result3)"
   ]
  },
  {
   "cell_type": "code",
   "execution_count": null,
   "id": "7d38541e",
   "metadata": {},
   "outputs": [],
   "source": [
    "#Q5 sol\n",
    "x = \"santosh\"\n",
    "\n",
    "y = \"santosh\"\n",
    "\n",
    "result = x is y\n",
    "print(result)\n"
   ]
  },
  {
   "cell_type": "code",
   "execution_count": null,
   "id": "e0b2a8a3",
   "metadata": {},
   "outputs": [],
   "source": [
    "#6 sol\n",
    "a=10 \n",
    "print(\"the bin val of 10 is=\",bin(a))\n",
    "b=4\n",
    "print(\"the bin val of 4 is=\",bin(b))\n",
    "result1=a&b\n",
    "print(f\"resut of AND operation performed={result1},\" , bin(result1))\n",
    "result2=a|b\n",
    "print(f\"resut of OR operation performed={result2},\" , bin(result2))\n",
    "result3=a^b\n",
    "print(f\"resut of XOR operation performed={result3},\" , bin(result3))\n",
    "result4=~a\n",
    "print(f\"resut of compliment operation performed={result4},\" , bin(result4))\n",
    "result5=a>>2\n",
    "print(\"right shift of bit by 2 position=\",bin(result5))\n",
    "result6=b<<1\n",
    "print(\"left shift bit by one position\",bin(result6))\n"
   ]
  },
  {
   "cell_type": "code",
   "execution_count": null,
   "id": "e055485a",
   "metadata": {},
   "outputs": [],
   "source": [
    "#Q7 sol\n",
    "a=15\n",
    "print(-a)..# negative unary operator\n",
    "print(+a)\n"
   ]
  },
  {
   "cell_type": "code",
   "execution_count": null,
   "id": "7be13d97",
   "metadata": {},
   "outputs": [],
   "source": [
    "#SOL Q 8\n",
    "a, b = 10, 20\n",
    " \n",
    "# Copy value of a in min if a < b else copy b\n",
    "min = a if a < b else b\n",
    " \n",
    "print(min)"
   ]
  }
 ],
 "metadata": {
  "kernelspec": {
   "display_name": "Python 3 (ipykernel)",
   "language": "python",
   "name": "python3"
  },
  "language_info": {
   "codemirror_mode": {
    "name": "ipython",
    "version": 3
   },
   "file_extension": ".py",
   "mimetype": "text/x-python",
   "name": "python",
   "nbconvert_exporter": "python",
   "pygments_lexer": "ipython3",
   "version": "3.9.13"
  }
 },
 "nbformat": 4,
 "nbformat_minor": 5
}
